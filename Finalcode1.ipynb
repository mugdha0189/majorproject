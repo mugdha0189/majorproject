{
  "nbformat": 4,
  "nbformat_minor": 0,
  "metadata": {
    "colab": {
      "provenance": []
    },
    "kernelspec": {
      "name": "python3",
      "display_name": "Python 3"
    },
    "language_info": {
      "name": "python"
    },
    "accelerator": "GPU",
    "gpuClass": "standard"
  },
  "cells": [
    {
      "cell_type": "markdown",
      "source": [
        "**Installing libraries**"
      ],
      "metadata": {
        "id": "vhhLKNSIbDMA"
      }
    },
    {
      "cell_type": "code",
      "execution_count": null,
      "metadata": {
        "id": "RLU9xleWMCKw",
        "colab": {
          "base_uri": "https://localhost:8080/"
        },
        "outputId": "9fa86a28-200c-4e0a-aedb-a8074b07a2c0"
      },
      "outputs": [
        {
          "output_type": "stream",
          "name": "stdout",
          "text": [
            "Looking in indexes: https://pypi.org/simple, https://us-python.pkg.dev/colab-wheels/public/simple/\n",
            "Collecting SpeechRecognition\n",
            "  Downloading SpeechRecognition-3.10.0-py2.py3-none-any.whl (32.8 MB)\n",
            "\u001b[2K     \u001b[90m━━━━━━━━━━━━━━━━━━━━━━━━━━━━━━━━━━━━━━━━\u001b[0m \u001b[32m32.8/32.8 MB\u001b[0m \u001b[31m30.2 MB/s\u001b[0m eta \u001b[36m0:00:00\u001b[0m\n",
            "\u001b[?25hRequirement already satisfied: requests>=2.26.0 in /usr/local/lib/python3.9/dist-packages (from SpeechRecognition) (2.27.1)\n",
            "Requirement already satisfied: urllib3<1.27,>=1.21.1 in /usr/local/lib/python3.9/dist-packages (from requests>=2.26.0->SpeechRecognition) (1.26.15)\n",
            "Requirement already satisfied: certifi>=2017.4.17 in /usr/local/lib/python3.9/dist-packages (from requests>=2.26.0->SpeechRecognition) (2022.12.7)\n",
            "Requirement already satisfied: charset-normalizer~=2.0.0 in /usr/local/lib/python3.9/dist-packages (from requests>=2.26.0->SpeechRecognition) (2.0.12)\n",
            "Requirement already satisfied: idna<4,>=2.5 in /usr/local/lib/python3.9/dist-packages (from requests>=2.26.0->SpeechRecognition) (3.4)\n",
            "Installing collected packages: SpeechRecognition\n",
            "Successfully installed SpeechRecognition-3.10.0\n",
            "Looking in indexes: https://pypi.org/simple, https://us-python.pkg.dev/colab-wheels/public/simple/\n",
            "Collecting pydub\n",
            "  Downloading pydub-0.25.1-py2.py3-none-any.whl (32 kB)\n",
            "Installing collected packages: pydub\n",
            "Successfully installed pydub-0.25.1\n",
            "Looking in indexes: https://pypi.org/simple, https://us-python.pkg.dev/colab-wheels/public/simple/\n",
            "Collecting ffmpeg\n",
            "  Downloading ffmpeg-1.4.tar.gz (5.1 kB)\n",
            "  Preparing metadata (setup.py) ... \u001b[?25l\u001b[?25hdone\n",
            "Building wheels for collected packages: ffmpeg\n",
            "  Building wheel for ffmpeg (setup.py) ... \u001b[?25l\u001b[?25hdone\n",
            "  Created wheel for ffmpeg: filename=ffmpeg-1.4-py3-none-any.whl size=6083 sha256=8e751d55fd45bafa62439a0ca6d9fa5f51ebe7631f4f047a2beb103d9da07fd1\n",
            "  Stored in directory: /root/.cache/pip/wheels/1d/57/24/4eff6a03a9ea0e647568e8a5a0546cdf957e3cf005372c0245\n",
            "Successfully built ffmpeg\n",
            "Installing collected packages: ffmpeg\n",
            "Successfully installed ffmpeg-1.4\n",
            "Looking in indexes: https://pypi.org/simple, https://us-python.pkg.dev/colab-wheels/public/simple/\n",
            "Collecting pocketsphinx\n",
            "  Downloading pocketsphinx-5.0.0.tar.gz (33.9 MB)\n",
            "\u001b[2K     \u001b[90m━━━━━━━━━━━━━━━━━━━━━━━━━━━━━━━━━━━━━━━━\u001b[0m \u001b[32m33.9/33.9 MB\u001b[0m \u001b[31m41.4 MB/s\u001b[0m eta \u001b[36m0:00:00\u001b[0m\n",
            "\u001b[?25h  Installing build dependencies ... \u001b[?25l\u001b[?25hdone\n",
            "  Getting requirements to build wheel ... \u001b[?25l\u001b[?25hdone\n",
            "  Preparing metadata (pyproject.toml) ... \u001b[?25l\u001b[?25hdone\n",
            "Collecting sounddevice\n",
            "  Downloading sounddevice-0.4.6-py3-none-any.whl (31 kB)\n",
            "Requirement already satisfied: CFFI>=1.0 in /usr/local/lib/python3.9/dist-packages (from sounddevice->pocketsphinx) (1.15.1)\n",
            "Requirement already satisfied: pycparser in /usr/local/lib/python3.9/dist-packages (from CFFI>=1.0->sounddevice->pocketsphinx) (2.21)\n",
            "Building wheels for collected packages: pocketsphinx\n",
            "  Building wheel for pocketsphinx (pyproject.toml) ... \u001b[?25l\u001b[?25hdone\n",
            "  Created wheel for pocketsphinx: filename=pocketsphinx-5.0.0-cp39-cp39-linux_x86_64.whl size=29150412 sha256=93b0c0051d7cbf5b1e524bf22ecb85a9c22b3f86a460c275ad6df6cdf5c7d974\n",
            "  Stored in directory: /root/.cache/pip/wheels/42/42/2f/2dc48505d6d4ed0bd37dcf051b3978c7e31c2b1606fb7e074e\n",
            "Successfully built pocketsphinx\n",
            "Installing collected packages: sounddevice, pocketsphinx\n",
            "Successfully installed pocketsphinx-5.0.0 sounddevice-0.4.6\n"
          ]
        }
      ],
      "source": [
        "!pip install SpeechRecognition\n",
        "!pip install pydub\n",
        "!pip install ffmpeg\n",
        "!pip install pocketsphinx\n",
        "\n",
        "import speech_recognition as sr\n",
        "from pydub import AudioSegment"
      ]
    },
    {
      "cell_type": "code",
      "source": [
        "import librosa\n",
        "import numpy as np\n",
        "from sklearn.linear_model import LinearRegression"
      ],
      "metadata": {
        "id": "tDV2UFUfWcFz"
      },
      "execution_count": null,
      "outputs": []
    },
    {
      "cell_type": "markdown",
      "source": [
        "**Training the LPC model**"
      ],
      "metadata": {
        "id": "5OKUIB_rbK-2"
      }
    },
    {
      "cell_type": "code",
      "source": [
        "import librosa\n",
        "import numpy as np\n",
        "from sklearn.linear_model import LinearRegression\n",
        "\n",
        "# Load audio file\n",
        "audio_file = \"/content/M01_Session1_0005.wav\"\n",
        "audio_signal, sr = librosa.load(audio_file)\n",
        "\n",
        "# Extract LPC coefficients\n",
        "p = 20\n",
        "lpc_coeffs = librosa.lpc(audio_signal, order=p)"
      ],
      "metadata": {
        "id": "YpleT4HQaQBM"
      },
      "execution_count": null,
      "outputs": []
    },
    {
      "cell_type": "code",
      "source": [
        "# Scale the LPC coefficients\n",
        "lpc_coeffs /= np.max(np.abs(lpc_coeffs))\n",
        "\n",
        "# Extract MFCC features\n",
        "n_mfcc = 13\n",
        "power_spec = np.abs(librosa.stft(audio_signal))**2\n",
        "mfcc = librosa.feature.mfcc(S=librosa.power_to_db(power_spec / np.max(power_spec)), n_mfcc=n_mfcc)\n",
        "\n",
        "# Train the model\n",
        "X_train = mfcc[:-1].T\n",
        "y_train = mfcc[-1].T\n",
        "model = LinearRegression()\n",
        "model.fit(X_train, y_train)"
      ],
      "metadata": {
        "id": "vrakSWGQarhP",
        "colab": {
          "base_uri": "https://localhost:8080/",
          "height": 75
        },
        "outputId": "43f7a252-58bb-43f4-8c6c-5ca7f569e542"
      },
      "execution_count": null,
      "outputs": [
        {
          "output_type": "execute_result",
          "data": {
            "text/plain": [
              "LinearRegression()"
            ],
            "text/html": [
              "<style>#sk-container-id-1 {color: black;background-color: white;}#sk-container-id-1 pre{padding: 0;}#sk-container-id-1 div.sk-toggleable {background-color: white;}#sk-container-id-1 label.sk-toggleable__label {cursor: pointer;display: block;width: 100%;margin-bottom: 0;padding: 0.3em;box-sizing: border-box;text-align: center;}#sk-container-id-1 label.sk-toggleable__label-arrow:before {content: \"▸\";float: left;margin-right: 0.25em;color: #696969;}#sk-container-id-1 label.sk-toggleable__label-arrow:hover:before {color: black;}#sk-container-id-1 div.sk-estimator:hover label.sk-toggleable__label-arrow:before {color: black;}#sk-container-id-1 div.sk-toggleable__content {max-height: 0;max-width: 0;overflow: hidden;text-align: left;background-color: #f0f8ff;}#sk-container-id-1 div.sk-toggleable__content pre {margin: 0.2em;color: black;border-radius: 0.25em;background-color: #f0f8ff;}#sk-container-id-1 input.sk-toggleable__control:checked~div.sk-toggleable__content {max-height: 200px;max-width: 100%;overflow: auto;}#sk-container-id-1 input.sk-toggleable__control:checked~label.sk-toggleable__label-arrow:before {content: \"▾\";}#sk-container-id-1 div.sk-estimator input.sk-toggleable__control:checked~label.sk-toggleable__label {background-color: #d4ebff;}#sk-container-id-1 div.sk-label input.sk-toggleable__control:checked~label.sk-toggleable__label {background-color: #d4ebff;}#sk-container-id-1 input.sk-hidden--visually {border: 0;clip: rect(1px 1px 1px 1px);clip: rect(1px, 1px, 1px, 1px);height: 1px;margin: -1px;overflow: hidden;padding: 0;position: absolute;width: 1px;}#sk-container-id-1 div.sk-estimator {font-family: monospace;background-color: #f0f8ff;border: 1px dotted black;border-radius: 0.25em;box-sizing: border-box;margin-bottom: 0.5em;}#sk-container-id-1 div.sk-estimator:hover {background-color: #d4ebff;}#sk-container-id-1 div.sk-parallel-item::after {content: \"\";width: 100%;border-bottom: 1px solid gray;flex-grow: 1;}#sk-container-id-1 div.sk-label:hover label.sk-toggleable__label {background-color: #d4ebff;}#sk-container-id-1 div.sk-serial::before {content: \"\";position: absolute;border-left: 1px solid gray;box-sizing: border-box;top: 0;bottom: 0;left: 50%;z-index: 0;}#sk-container-id-1 div.sk-serial {display: flex;flex-direction: column;align-items: center;background-color: white;padding-right: 0.2em;padding-left: 0.2em;position: relative;}#sk-container-id-1 div.sk-item {position: relative;z-index: 1;}#sk-container-id-1 div.sk-parallel {display: flex;align-items: stretch;justify-content: center;background-color: white;position: relative;}#sk-container-id-1 div.sk-item::before, #sk-container-id-1 div.sk-parallel-item::before {content: \"\";position: absolute;border-left: 1px solid gray;box-sizing: border-box;top: 0;bottom: 0;left: 50%;z-index: -1;}#sk-container-id-1 div.sk-parallel-item {display: flex;flex-direction: column;z-index: 1;position: relative;background-color: white;}#sk-container-id-1 div.sk-parallel-item:first-child::after {align-self: flex-end;width: 50%;}#sk-container-id-1 div.sk-parallel-item:last-child::after {align-self: flex-start;width: 50%;}#sk-container-id-1 div.sk-parallel-item:only-child::after {width: 0;}#sk-container-id-1 div.sk-dashed-wrapped {border: 1px dashed gray;margin: 0 0.4em 0.5em 0.4em;box-sizing: border-box;padding-bottom: 0.4em;background-color: white;}#sk-container-id-1 div.sk-label label {font-family: monospace;font-weight: bold;display: inline-block;line-height: 1.2em;}#sk-container-id-1 div.sk-label-container {text-align: center;}#sk-container-id-1 div.sk-container {/* jupyter's `normalize.less` sets `[hidden] { display: none; }` but bootstrap.min.css set `[hidden] { display: none !important; }` so we also need the `!important` here to be able to override the default hidden behavior on the sphinx rendered scikit-learn.org. See: https://github.com/scikit-learn/scikit-learn/issues/21755 */display: inline-block !important;position: relative;}#sk-container-id-1 div.sk-text-repr-fallback {display: none;}</style><div id=\"sk-container-id-1\" class=\"sk-top-container\"><div class=\"sk-text-repr-fallback\"><pre>LinearRegression()</pre><b>In a Jupyter environment, please rerun this cell to show the HTML representation or trust the notebook. <br />On GitHub, the HTML representation is unable to render, please try loading this page with nbviewer.org.</b></div><div class=\"sk-container\" hidden><div class=\"sk-item\"><div class=\"sk-estimator sk-toggleable\"><input class=\"sk-toggleable__control sk-hidden--visually\" id=\"sk-estimator-id-1\" type=\"checkbox\" checked><label for=\"sk-estimator-id-1\" class=\"sk-toggleable__label sk-toggleable__label-arrow\">LinearRegression</label><div class=\"sk-toggleable__content\"><pre>LinearRegression()</pre></div></div></div></div></div>"
            ]
          },
          "metadata": {},
          "execution_count": 7
        }
      ]
    },
    {
      "cell_type": "markdown",
      "source": [
        "**Testing the LPC model**"
      ],
      "metadata": {
        "id": "AjQb6YG8be2Y"
      }
    },
    {
      "cell_type": "code",
      "source": [
        "# Load a test audio file\n",
        "test_audio_file = \"/content/M01_Session1_0013.wav\"\n",
        "test_audio_signal, sr = librosa.load(test_audio_file)\n",
        "\n",
        "# Extract LPC coefficients\n",
        "test_lpc_coeffs = librosa.lpc(test_audio_signal, order=p)\n",
        "\n",
        "# Scale the LPC coefficients\n",
        "test_lpc_coeffs /= np.max(np.abs(test_lpc_coeffs))\n",
        "\n",
        "# Extract MFCC features\n",
        "test_power_spec = np.abs(librosa.stft(test_audio_signal))**2\n",
        "test_mfcc = librosa.feature.mfcc(S=librosa.power_to_db(test_power_spec / np.max(test_power_spec)), n_mfcc=n_mfcc)\n",
        "\n",
        "# Test the model\n",
        "X_test = test_mfcc[:-1].T\n",
        "y_test = test_mfcc[-1].T\n",
        "y_pred = model.predict(X_test)"
      ],
      "metadata": {
        "id": "xhN-GyTXae_L"
      },
      "execution_count": null,
      "outputs": []
    },
    {
      "cell_type": "markdown",
      "source": [
        "**Accuracy**"
      ],
      "metadata": {
        "id": "Zrjfkp2tbkZ7"
      }
    },
    {
      "cell_type": "code",
      "source": [
        "# Calculate accuracy\n",
        "accuracy = model.score(X_test, y_test)\n",
        "print(\"Accuracy:\", accuracy)"
      ],
      "metadata": {
        "id": "8mscVcZTa7P3",
        "colab": {
          "base_uri": "https://localhost:8080/"
        },
        "outputId": "4e63a106-417e-4701-ea8c-c27d58b1ff91"
      },
      "execution_count": null,
      "outputs": [
        {
          "output_type": "stream",
          "name": "stdout",
          "text": [
            "Accuracy: 0.9983317962923006\n"
          ]
        }
      ]
    },
    {
      "cell_type": "markdown",
      "source": [
        "**Convert all audio sample files to wav format**"
      ],
      "metadata": {
        "id": "mlIfLzJwbO5r"
      }
    },
    {
      "cell_type": "code",
      "source": [
        "def convert_to_wav(filename):\n",
        "    # load the audio file\n",
        "    sound = AudioSegment.from_file(filename)\n",
        "\n",
        "    # set the sample rate to 16000\n",
        "    sound = sound.set_frame_rate(16000)\n",
        "\n",
        "    # set the number of channels to 1\n",
        "    sound = sound.set_channels(1)\n",
        "\n",
        "    # set the sample width to 2 bytes\n",
        "    sound = sound.set_sample_width(2)\n",
        "\n",
        "    # export the audio file as a wav file\n",
        "    wav_file = filename.split(\".\")[0] + \".wav\"\n",
        "    sound.export(wav_file, format=\"wav\")\n",
        "\n",
        "    return wav_file"
      ],
      "metadata": {
        "id": "OwkSHJUIMRMO"
      },
      "execution_count": null,
      "outputs": []
    },
    {
      "cell_type": "markdown",
      "source": [
        "**Transcribe the speech in an audio file**"
      ],
      "metadata": {
        "id": "qfbWS12ZMhC-"
      }
    },
    {
      "cell_type": "code",
      "source": [
        "import speech_recognition as sr\n",
        "\n",
        "def transcribe_audio(filename):\n",
        "    # convert the audio file to wav format\n",
        "    wav_file = convert_to_wav(filename)\n",
        "\n",
        "    # create a recognizer object\n",
        "    r = sr.Recognizer()\n",
        "\n",
        "    # load the audio file\n",
        "    with sr.AudioFile(wav_file) as source:\n",
        "        audio = r.record(source)\n",
        "                # adjust for ambient noise\n",
        "        r.adjust_for_ambient_noise(source, duration=0.5)\n",
        "\n",
        "    # transcribe the speech in the audio file\n",
        "    try:\n",
        "        result = r.recognize_google(audio, show_all=True)\n",
        "        if 'alternative' in result:\n",
        "            for i, alternative in enumerate(result['alternative']):\n",
        "                if 'confidence' in alternative:\n",
        "                    confidence = alternative['confidence']\n",
        "                    transcript = alternative['transcript']\n",
        "                    print(f\"Alternative {i+1}: {transcript} (confidence: {confidence})\")\n",
        "                else:\n",
        "                    transcript = alternative['transcript']\n",
        "                    print(f\"Alternative {i+1}: {transcript}\")\n",
        "    except sr.UnknownValueError:\n",
        "        print(\"Google Speech Recognition could not understand audio\")\n",
        "    except sr.RequestError as e:\n",
        "        print(\"Could not request results from Google Speech Recognition service; {0}\".format(e))\n"
      ],
      "metadata": {
        "id": "cdB0NTBkMfr3"
      },
      "execution_count": null,
      "outputs": []
    },
    {
      "cell_type": "markdown",
      "source": [
        "**Speech to Text Conversion**"
      ],
      "metadata": {
        "id": "xjRO-SiuMxD2"
      }
    },
    {
      "cell_type": "code",
      "source": [
        "transcribe_audio(\"/content/M01_Session1_0005.wav\")"
      ],
      "metadata": {
        "id": "l-6F8VhgMxZd",
        "colab": {
          "base_uri": "https://localhost:8080/"
        },
        "outputId": "1e96150c-327a-4070-bcc1-609e11cd5cdb"
      },
      "execution_count": null,
      "outputs": [
        {
          "output_type": "stream",
          "name": "stdout",
          "text": [
            "Alternative 1: Wendy Bank in mind a bit crack and go over and triple (confidence: 0.77680421)\n",
            "Alternative 2: Wendy Bank in mind a bit crack and Coopers I drew for\n",
            "Alternative 3: Wendy Bank in mind a bit crack and Coopers I dreamed\n",
            "Alternative 4: Wendy Bank in mind a bit crack and Coopers I dream for\n",
            "Alternative 5: Wendy Bank in mind a bit crack and Cooper I drew for\n"
          ]
        }
      ]
    },
    {
      "cell_type": "code",
      "source": [
        "transcribe_audio(\"/content/M01_Session1_0031.wav\")"
      ],
      "metadata": {
        "id": "OF8jw9uWNHQh",
        "colab": {
          "base_uri": "https://localhost:8080/"
        },
        "outputId": "be4fb676-b05f-4060-d5d6-d70c83e76091"
      },
      "execution_count": null,
      "outputs": [
        {
          "output_type": "stream",
          "name": "stdout",
          "text": [
            "Alternative 1: dog (confidence: 0.60164523)\n",
            "Alternative 2: guard\n",
            "Alternative 3: Doug\n",
            "Alternative 4: Dogg\n"
          ]
        }
      ]
    },
    {
      "cell_type": "code",
      "source": [
        "transcribe_audio(\"/content/M01_Session1_0092.wav\")"
      ],
      "metadata": {
        "colab": {
          "base_uri": "https://localhost:8080/"
        },
        "outputId": "1606571c-9fd6-4cb5-88eb-3fde315a24d1",
        "id": "IEUrC5y68d8B"
      },
      "execution_count": null,
      "outputs": [
        {
          "output_type": "stream",
          "name": "stdout",
          "text": [
            "Alternative 1: really I love you more and broken (confidence: 0.92686945)\n",
            "Alternative 2: really I love you more and smoking\n",
            "Alternative 3: really I love you do like more and smoking\n",
            "Alternative 4: really I love you more and smoke it\n",
            "Alternative 5: really I love you more and smoking in\n"
          ]
        }
      ]
    },
    {
      "cell_type": "code",
      "source": [
        "transcribe_audio(\"/content/M01_Session1_0085.wav\")"
      ],
      "metadata": {
        "id": "VRQrYXCndqno",
        "colab": {
          "base_uri": "https://localhost:8080/"
        },
        "outputId": "d2c96239-bfad-46a3-8e21-7dadb6eeb956"
      },
      "execution_count": null,
      "outputs": [
        {
          "output_type": "stream",
          "name": "stdout",
          "text": [
            "Alternative 1: YouTube (confidence: 0.8947466)\n",
            "Alternative 2: it's you\n",
            "Alternative 3: you see\n",
            "Alternative 4: you too\n"
          ]
        }
      ]
    },
    {
      "cell_type": "code",
      "source": [
        "transcribe_audio(\"/content/M01_Session1_0040.wav\")"
      ],
      "metadata": {
        "id": "PaSGaXBOfYKj",
        "colab": {
          "base_uri": "https://localhost:8080/"
        },
        "outputId": "aeffcaf9-99b9-4a8b-db8d-d88b1a6772fb"
      },
      "execution_count": null,
      "outputs": [
        {
          "output_type": "stream",
          "name": "stdout",
          "text": [
            "Alternative 1: break it out games (confidence: 0.78133756)\n",
            "Alternative 2: bring it out games\n",
            "Alternative 3: bring it on games\n",
            "Alternative 4: bring it all games\n",
            "Alternative 5: break it all games\n"
          ]
        }
      ]
    }
  ]
}